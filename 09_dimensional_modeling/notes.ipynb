{
 "cells": [
  {
   "cell_type": "markdown",
   "metadata": {},
   "source": [
    "# Why do we do dimensional modeling?\n",
    "\n",
    "* Clear and visible business model\n",
    "* Data more accessible in the organization\n",
    "- As we include several stakeholders when we design our data and dimensional models\n",
    "* Mental model of what to build\n",
    "- You understand what you want to build, and then it is much easier that it will be used to specific stakeholders.\n",
    "* Reduce costs and risks\n",
    "- Reduces the costs and risk for your project and for your data pipelines, and you choose the business process gives most returns on your investment, you model in a way that can support decision-making.\n",
    "* Query usability and performance\n",
    "- It is very easy for querying\n",
    "\n",
    "# Model the warehouse layer as a star schema\n",
    "* You create a \"fact\" tables, fact table represents for each row a transaction. We want to enrich the tables, and here is the dimensional tables comes in handy. Next step is serving layers and data marts.\n",
    "\n",
    "# 4 steps of dimensional modeling\n",
    "1. Find the business process\n",
    "- Could be marketing or sales\n",
    "- Activities to achieve specific organizational goals\n",
    "*Examples*: Retail sales, store inventory, warehouse inventory, retail promotion tracking, retail sales forecast, receive warehouse deliveries\n",
    "*When starting: pick a business critical process and feasible process in terms of data availability, quality*\n",
    "2. Define the grain\n",
    "- How should one row look like?\n",
    "- Does it represent one day/month/year of a sale or a particilar sale.\n",
    "*The more granular, the better - sales example:*\n",
    "*Transactional grain, daily grain, monthly grain single sale is more granular then a daily sale on a daily grain level or a total sale at a monthly level that is on a monthly grain level*.\n",
    "*Low grain of a fact is much easier to join to different dimensions, making it better at meeting various business requirements.* \n",
    "3. Identify the dimensions\n",
    "- What columns should contain in the dimensional tables.\n",
    "* Dimensions - example healthcare\n",
    "*Dimensions are descriptive attributes that provide context for the facts*\n",
    "Dimension tables:\n",
    "Date: day month, quarter, year\n",
    "Patient: patient id, patient name, age, gender\n",
    "Doctor: doctor id, doctor name, specialization\n",
    "Hospital: hospital id, hospital name, location\n",
    "Facts - example healthcare *quantitative data points for measurable events or transactions in a business process stored in fact table*\n",
    "Fact columns:\n",
    "Patient visits: number of patient visits\n",
    "Diagnosis code: code representing diagnosis\n",
    "Treament cost: treament cost in SEK\n",
    "\n",
    "4. Identify facts\n",
    "- Which are the facts and which should join the fact tables\n",
    "\n",
    "* Fact amd dimension tables linked through foreign-key relationships\n",
    "\n",
    "\n"
   ]
  },
  {
   "cell_type": "markdown",
   "metadata": {},
   "source": [
    "# Data marts\n",
    "*Join facts with dimensions to efficiently serve the data downstream in data marts*\n",
    "\n",
    "* Join facts tables with attributes from various dimensions to build data marts\n",
    "* Scope of the marts depends on stakeholders needs.\n",
    "*A BI tool should only acess the data marts layer to build dashboard."
   ]
  }
 ],
 "metadata": {
  "language_info": {
   "name": "python"
  }
 },
 "nbformat": 4,
 "nbformat_minor": 2
}
