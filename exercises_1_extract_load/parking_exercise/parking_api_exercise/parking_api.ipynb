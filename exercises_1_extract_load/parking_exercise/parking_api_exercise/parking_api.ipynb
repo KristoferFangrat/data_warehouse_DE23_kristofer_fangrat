{
 "cells": [
  {
   "cell_type": "code",
   "execution_count": 10,
   "metadata": {},
   "outputs": [],
   "source": [
    "import json\n",
    "import requests\n",
    "\n",
    "url = \"https://openparking.stockholm.se/LTF-Tolken/v1/servicedagar/weekday/måndag?outputFormat=json&apiKey={api_key}\"\n",
    "\n",
    "def _get_ads(url_for_searach):\n",
    "    headers = {'accept': 'application/json'}\n",
    "    response = requests.get(url_for_searach, headers=headers)\n",
    "    response.raise_for_status()\n",
    "    return response.json(response.content.decode('utf8'))"
   ]
  }
 ],
 "metadata": {
  "kernelspec": {
   "display_name": ".venv",
   "language": "python",
   "name": "python3"
  },
  "language_info": {
   "codemirror_mode": {
    "name": "ipython",
    "version": 3
   },
   "file_extension": ".py",
   "mimetype": "text/x-python",
   "name": "python",
   "nbconvert_exporter": "python",
   "pygments_lexer": "ipython3",
   "version": "3.11.8"
  }
 },
 "nbformat": 4,
 "nbformat_minor": 2
}
