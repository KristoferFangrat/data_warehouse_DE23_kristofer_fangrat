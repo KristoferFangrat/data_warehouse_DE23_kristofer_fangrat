{
 "cells": [
  {
   "cell_type": "markdown",
   "metadata": {},
   "source": [
    "# Theory questions\n",
    "* These study questions are good to get an overview of snowflake roles and dlt for extracting and loading data.\n",
    "\n",
    " a) Why is the principal of least privilege important in a company?\n",
    " The principle of least privilege is important in a company because it limits access to only the resources necessary for an employee to perform their job. This reduces the risk of data breaches, insider threats and accidental misuse of information. By minimizing access, the company enhances its overall security, ensures compliance with regulations, and protects sensitive data from unauthorized access.\n",
    "\n",
    "  b) Explain the role of dlt in managing data pipelines.\n",
    "  The role of Delta Live Tables (DLT) in managing data pipelines is to automate and streamline process of building, monitoring and optimizing data workflows. DLT allows for real-time data processing, ensuring data quality through built-in validation checks, and provides easy to use tools for managing the lifecycle of data pipeline, from ingestion to transformation. This results in more reliable, scalable and efficient data pipelines.\n",
    "\n",
    "  c) What is a data connector and why is it important in data integration?\n",
    "  A data is a tool or interface that allows different data sources to connect and exchange information. It is important in data integration because it enables seamless data flow between systems, ensuring that data from various sources can be accessed, combined and analyzed efficiently. This facilitates better decision.making and more comprehensive insights by providing a unified view of data across an organization.\n",
    "\n",
    "  d) What is the difference between data extraction and data loading?\n",
    "  The difference between data extraction and data loadin is that data extraction involves retrieving data from various sources, such as databases or files, while data loading refers to the process of transferring that extracted data into a destination system, such as a data warehouse or a data lake, for further analysis or use.\n",
    "\n",
    "  e) What is ELT and how does it differ from ETL?\n",
    "  ELT is a process where data is first extracted from sources, loaded directly into a destination system (like a data warehouse), and then transformed within that system. In contrast, ETL, transforms the data before loading it into the destination. THe key difference is the order of operations: ELT shifts the transformation step to after the data is loaded, leveraging the destination system's processing power for transformations.\n",
    "\n",
    "  f) Discuss the advantages of performing data transformations after loading the data.\n",
    "  Performing data transformations after loading the data (as in ELT) offers several advatages:\n",
    "  1. **Scalability**: Transforming data within the data warehouse or data lake allows you to leverage the power processing capabilities of these systems, which are often optimized for large-scale data operations.\n",
    "  2. **Flexibility**: ELT enables raw data to be stored in its original form, allowing for different types of transformations and analyses to be applied later. THius flexibility is useful when the data's future use cases are not fully known at the time of loading.\n",
    "  3. **Performance**: By postponing transformation until after loading, ELT can handle large volumes of data more efficiently. Modern data warehouses often have distributed often have distributed computing resources that can perform transformations faster and more efficiently than traditional ETL tools.\n",
    "  4. **Cost-effivteveness**: Storing raw data first can be more cost-effective because cloud-based data warehouses typically charge based on the amount of data processed during transformation. By transforming only the data that's needed, companies can optimize costs.\n",
    "  5. **Real-time processing**: ELT allows for near real-time data analysis because data is loaded quickly, and transformations can be applied on-demand as queries can optimize costs.\n",
    "  6. **Simplified data pipeline management**: ELT pipelines can be easier to manage because they reduce the need for complex, pre-load transformations steps, streamlining the overall data processing workflow.\n",
    "\n",
    "  *These advantages make ELT particularly well-suited for modern, cloud-based data environments where scalability, flexibility and efficiency are key priorites.*\n",
    "\n",
    "  g) What is the purpose of roles in Snowflake?\n",
    "  The purpose of roles in Snowflake is to manage and control access to data and resources within the platform. Roles define what actions users can perform, such as querying data or managing objects, ensuring that access is granted based on the principle of least privilege. This helps maintain security and compliance by assigning permissions according to user responsibilities.\n",
    "\n",
    "  h) Explain the difference between USAGE and OWNERSHIP privileges.\n",
    "  The difference between **USAGE** and **OWNERSHIP** privileges in Snowflake is that **USAGE** allows a user to access and use an object, like a database or schema, without making changes, while **OWNERSHIP** gives full control over the object, including the ability to modify, drop and grant privileges to others. Essentially, **OWNERSHIP** includes all privileges whereas **USAGES** is more limited.\n",
    "\n",
    "  i) What information is required to create a user in Snowflake?\n",
    "  1. Username, a unique identifier for the user.\n",
    "  2. Password, the user's login password.\n",
    "  3. Role, role or role(s) assigned to the user, defining their access and privileges.\n",
    "  4. Default warehouse: A warehouse for the user to use for their queries.\n",
    "  5. Default database: A default database the user will access."
   ]
  }
 ],
 "metadata": {
  "language_info": {
   "name": "python"
  }
 },
 "nbformat": 4,
 "nbformat_minor": 2
}
