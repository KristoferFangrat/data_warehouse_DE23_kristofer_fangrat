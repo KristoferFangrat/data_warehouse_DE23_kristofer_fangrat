{
 "cells": [
  {
   "cell_type": "markdown",
   "metadata": {},
   "source": [
    "# Glossary\n",
    "\n",
    "### 1. Fact and Dimensions:\n",
    "**Fact**: A table in a data warehouse that stores quantitative data for analysis, such as sales, revenue or number of transactions. Fact usually have __foreign keys__ to __dimension tables__.\n",
    "**Dimensions**: These tables store descriptive data (e.g. product name, customer details) and are used to slice and filter the facts.\n",
    "\n",
    "### 2. Star schema:\n",
    "**Star schema**: A type of data model where a _fact table_ is in the center, and dimension tables are connected to it like points on a star. It is widely used in data warehousing for simple and fast queries.\n",
    "\n",
    "### 3. Granularity:\n",
    "**Granularity**: Refers to the level of detail stored in a __fact table__. The more granular the data (e.g. individual transactions) the more detailed the analysis can be.\n",
    "\n",
    "### 4. Conformed dimension:\n",
    "**Conformed dimension**: A dimension that is consistent across multiple fact tables or data marts, meaning it can be used uniformly parts of a business process or across departments.\n",
    "\n",
    "### 5. Slowly changing dimensions (SCD):\n",
    "**SCD**: Describes how dimension tables handle changes in data over time. There are different types (Type 1, Type 2 etc.), where data is either overwritten (Type 1) or new historical records are added (Type 2).\n",
    "\n",
    "### 6. Surrogate key, primary key and foreign key:\n",
    "**Primary key**: A unique identifier for a record in a table.\n",
    "**Foreign key**: A reference to the primary key in another table, used to establish relationships between tables. \n",
    "**Surrogate key**: A generated unique key that serves as the primary key in a table (often not meaningful by itself, but used for linking records).\n",
    "\n",
    "### 7. ER-diagram (entity-relationship diagram)\n",
    "**ER-diagram**: A graphical representation of entities (tables) and their relationships in a database. It helps visualize the structure of a database, showing how the tables relate through primary keys and foreign keys.\n",
    "\n",
    "### 8. Data mart:\n",
    "**Data mart**: A smaller, focused data warehouse designed to serve a specific business unit or purpose, such as marketing or finance.\n",
    "\n",
    "### 9. Data integrity and data quality:\n",
    "**Data integrity**: Ensuring the accuracy, consistency and reliability of data throughout its lifecycle.\n",
    "**Data quality**: Refers to the fitness of data for its intended purpose. High-quality data is accurate, complete and timely.\n",
    "\n",
    "### 10. Normalization (3NF) and Denormalization:\n",
    "**3NF** (Third normal form): A database design principle aimed at reducing redundancy by organizing data into multiple related tables.\n",
    "**Denormalization**: Combining tables for faster queries at the cost of data redundancy. Often used in data warehouses for performance reasons.\n",
    "\n",
    "### 11. Transformation and Materialization:\n",
    "**Transformation**: The process of converting raw data into a structured format for analysis (e.g. cleaning, aggregating).\n",
    "**Materialization**: Storing transformed data in a physical table, as opposed to calculating it on the fly.\n",
    "\n",
    "### 12. Factless fact table:\n",
    "**Factless fact table**: A table that does not contain measurable data but captures events, such as logging attendance or tracking customer actions (with only foreign keys to dimensions)."
   ]
  }
 ],
 "metadata": {
  "language_info": {
   "name": "python"
  }
 },
 "nbformat": 4,
 "nbformat_minor": 2
}
