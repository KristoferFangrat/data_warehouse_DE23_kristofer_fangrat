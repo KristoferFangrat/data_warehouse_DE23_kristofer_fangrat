{
 "cells": [
  {
   "cell_type": "markdown",
   "metadata": {},
   "source": [
    "# there are several ways to materialize models in dbt\n",
    "\n",
    "* Table: Physical table\n",
    "* When to use it: Query performance, and when data doesn't change frequently.\n",
    "\n",
    "* View: Virtual table that runs underlying query each time it is accessed.\n",
    "* WHen to use it: Lightweight models and reflect current data.\n",
    "\n",
    "* Incremental: Loading and transforming new or changed data since last run\n",
    "* When to use it: Small data changes, large dataset.\n",
    "\n",
    "* Ephemeral: Temporary model that is not materialized as tables or views.\n",
    "* When to use it: Used as subquery that other models can reference.\n",
    "\n",
    "{% macro capitalize_first_letter(column) %}\n",
    "case - macro definition\n",
    "    when {{ column }} is null then null \n",
    "    else upper(substr({{ column }}, 1, 1)) || lower(substr({{ column }}, 2))\n",
    "end\n",
    "{% endmacro %}\n",
    "\n",
    "WITH src_employer AS (SELECT * FROM {{ ref('src_employer') }})\n",
    "\n",
    "SELECT\n",
    "    {{ dbt_utils.generate_surrogate_key(['id', 'employer_name']) }} AS employer_id, -- noqa\n",
    "    employer_name,\n",
    "    {{ capitalize_first_letter(use the macro) (\"coalesce(workplace_city, 'stad ej specificerat')\") }} AS workplace_city -- noqa: TMP\n",
    "    {# TODO: finish this dimensional model #} -- noqa\n",
    "FROM src_employer"
   ]
  }
 ],
 "metadata": {
  "language_info": {
   "name": "python"
  }
 },
 "nbformat": 4,
 "nbformat_minor": 2
}
